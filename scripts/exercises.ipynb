{
 "cells": [
  {
   "cell_type": "markdown",
   "id": "59f33e2b",
   "metadata": {},
   "source": [
    "# Exercise\n",
    "\n",
    "\n",
    "## Task 1\n",
    "\n",
    "\n",
    "Context: It is 2005. The World Health Organisation (WHO) has just released the latest data on life expectancy stratified by country and year.\n",
    "\n",
    "a) Run the code cell below to load the `life_expectancy.csv` data set into a Pandas `DataFrame` called `data`. We also filter it so that it only contains data from _before_ 2005."
   ]
  },
  {
   "cell_type": "code",
   "execution_count": null,
   "id": "9aa0df5b",
   "metadata": {},
   "outputs": [],
   "source": [
    "import pandas as pd\n",
    "\n",
    "\n",
    "# Run this code cell\n",
    "data_full = pd.read_csv(\"./life_expectancy.csv\")\n",
    "data = data_full.loc[data_full[\"Year\"] < 2005]\n",
    "data.head()"
   ]
  },
  {
   "cell_type": "markdown",
   "id": "a9913a94",
   "metadata": {},
   "source": [
    "For now we will only be working with the `data` variable. We will return to our `data_full` variable later on (after some time has passed...)."
   ]
  },
  {
   "cell_type": "markdown",
   "id": "09a2c6ad",
   "metadata": {},
   "source": [
    "b) The code below uses the `janitor` package to rename the columns in a neater format. Include an extra line of code to drop any rows containing missing values."
   ]
  },
  {
   "cell_type": "code",
   "execution_count": null,
   "id": "20ca19ff",
   "metadata": {},
   "outputs": [],
   "source": [
    "import janitor\n",
    "\n",
    "\n",
    "data = data.clean_names(strip_underscores=True)\n",
    "# Your b) code here"
   ]
  },
  {
   "cell_type": "markdown",
   "id": "ce8f357f",
   "metadata": {},
   "source": [
    "We will try to predict the life expectancy using the percentage expenditure, total expenditure, population, body-mass index (BMI) and schooling."
   ]
  },
  {
   "cell_type": "markdown",
   "id": "09fc312f",
   "metadata": {},
   "source": [
    "c) Run the code cell below to select the features (`X`) and the target (`y`)."
   ]
  },
  {
   "cell_type": "code",
   "execution_count": null,
   "id": "12510726",
   "metadata": {},
   "outputs": [],
   "source": [
    "# Run this code cell\n",
    "X = data[[\n",
    "    \"percentage_expenditure\",\n",
    "    \"total_expenditure\",\n",
    "    \"population\",\n",
    "    \"bmi\",\n",
    "    \"schooling\",\n",
    "]]\n",
    "y = data[\"life_expectancy\"]"
   ]
  },
  {
   "cell_type": "markdown",
   "id": "267aeec7",
   "metadata": {},
   "source": [
    "Now split the data into train and test sets, with 80% of the data going into the training set."
   ]
  },
  {
   "cell_type": "code",
   "execution_count": null,
   "id": "13bb0dd1",
   "metadata": {},
   "outputs": [],
   "source": [
    "from sklearn.model_selection import train_test_split\n",
    "\n",
    "\n",
    "# Your c) code here"
   ]
  },
  {
   "cell_type": "markdown",
   "id": "1db193ba",
   "metadata": {},
   "source": [
    "## Task 2: Modelling\n",
    "\n",
    "We will fit a $K$-Nearest Neighbour Regression model (`KNeighborsRegressor()` in sklearn).\n",
    "\n",
    "d) Set up a model pipeline in sklearn which includes:\n",
    "\n",
    "- Data preprocessing using a `StandardScaler`.\n",
    "- Modelling using `KNeighborsRegressor`.\n",
    "\n",
    "Fit your model to the training data."
   ]
  },
  {
   "cell_type": "code",
   "execution_count": null,
   "id": "4b588626",
   "metadata": {},
   "outputs": [],
   "source": [
    "from sklearn.neighbors import KNeighborsRegressor\n",
    "from sklearn.pipeline import Pipeline\n",
    "from sklearn.preprocessing import StandardScaler\n",
    "\n",
    "\n",
    "# Your d) code here"
   ]
  },
  {
   "cell_type": "markdown",
   "id": "87427927",
   "metadata": {},
   "source": [
    "e) Generate model predictions for the test data."
   ]
  },
  {
   "cell_type": "code",
   "execution_count": null,
   "id": "c8dfe4ff",
   "metadata": {},
   "outputs": [],
   "source": [
    "# Your e) code here"
   ]
  },
  {
   "cell_type": "markdown",
   "id": "b4c892ec",
   "metadata": {},
   "source": [
    "f) Compute the root-mean-square error using the predicted and true values of the test data.\n",
    "\n",
    "_Hint: use the `sklearn.metrics.mean_squared_error` function to generate the mean squared error._"
   ]
  },
  {
   "cell_type": "code",
   "execution_count": null,
   "id": "65bd5d60",
   "metadata": {},
   "outputs": [],
   "source": [
    "from sklearn.metrics import mean_squared_error\n",
    "\n",
    "\n",
    "# Your f) code here"
   ]
  },
  {
   "cell_type": "markdown",
   "id": "6cd010fc",
   "metadata": {},
   "source": [
    "g) Create a `VetiverModel` instance using your trained model and inspect the model metadata."
   ]
  },
  {
   "cell_type": "code",
   "execution_count": null,
   "id": "a5c94775",
   "metadata": {},
   "outputs": [],
   "source": [
    "import vetiver\n",
    "\n",
    "\n",
    "# Your g) code here"
   ]
  },
  {
   "cell_type": "markdown",
   "id": "e0db8308",
   "metadata": {},
   "source": [
    "## Task 3: Deploying your model\n",
    "\n",
    "\n",
    "h) Deploy your model to the localhost using a FastAPI"
   ]
  },
  {
   "cell_type": "code",
   "execution_count": null,
   "id": "2860b0b6",
   "metadata": {},
   "outputs": [],
   "source": [
    "from vetiver import VetiverAPI\n",
    "\n",
    "\n",
    "# Your h) code here"
   ]
  },
  {
   "cell_type": "markdown",
   "id": "f3209c5e",
   "metadata": {},
   "source": [
    "i) Try running the code cell below to inspect your API in the browser"
   ]
  },
  {
   "cell_type": "code",
   "execution_count": null,
   "id": "0f316e24",
   "metadata": {},
   "outputs": [],
   "source": [
    "app.run(port = 8080)"
   ]
  },
  {
   "cell_type": "markdown",
   "id": "afb95c64",
   "metadata": {},
   "source": [
    "j) Predict the life expectancy for the following inputs:\n",
    "\n",
    "- `percentage_expenditure`: 46\n",
    "- `total_expenditure`: 9\n",
    "- `population`: 5000000\n",
    "- `bmi`: 64\n",
    "- `schooling`: 20"
   ]
  },
  {
   "cell_type": "markdown",
   "id": "467d3f57",
   "metadata": {},
   "source": [
    "k) If working locally, try opening a separate terminal and check that you can run the query programmatically:\n",
    "\n",
    "```\n",
    "from vetiver.server import predict, vetiver_endpoint\n",
    "\n",
    "\n",
    "endpoint = vetiver_endpoint(\"http://127.0.0.1:8080/predict\")\n",
    "\n",
    "test_dict = {\n",
    "    \"percentage_expenditure\": [46],\n",
    "    \"total_expenditure\": [9],\n",
    "    \"population\": [5000000],\n",
    "    \"bmi\": [64]\n",
    "    \"schooling\": [20]\n",
    "}\n",
    "test_data = pd.DataFrame(test_dict)\n",
    "predict(endpoint, test_data)\n",
    "```"
   ]
  },
  {
   "cell_type": "markdown",
   "id": "d5070e73",
   "metadata": {},
   "source": [
    "## Task 4: Detecting model drift\n",
    "\n",
    "How time flies: it is now 2010!\n",
    "\n",
    "l) Run the code cell below to load the data from 2005 to 2009, and drop missing values."
   ]
  },
  {
   "cell_type": "code",
   "execution_count": null,
   "id": "d494d08e",
   "metadata": {},
   "outputs": [],
   "source": [
    "# Run this code cell\n",
    "data_latest = data_full.loc[\n",
    "    (data_full[\"Year\"] >= 2005) &\n",
    "    (data_full[\"Year\"] <= 2009)\n",
    "]\n",
    "data_latest = data_latest.clean_names(strip_underscores=True)\n",
    "data_latest.dropna(inplace=True)\n",
    "data_latest.head()"
   ]
  },
  {
   "cell_type": "markdown",
   "id": "f39e77ab",
   "metadata": {},
   "source": [
    "m) Predict the life expectancy for this data using your pretrained model."
   ]
  },
  {
   "cell_type": "code",
   "execution_count": null,
   "id": "b2d9f1fe",
   "metadata": {},
   "outputs": [],
   "source": [
    "X = data_latest[[\n",
    "    \"percentage_expenditure\",\n",
    "    \"total_expenditure\",\n",
    "    \"population\",\n",
    "    \"bmi\",\n",
    "    \"schooling\",\n",
    "]]\n",
    "y = data_latest[\"life_expectancy\"]\n",
    "\n",
    "# Your m) code here"
   ]
  },
  {
   "cell_type": "markdown",
   "id": "cd852e56",
   "metadata": {},
   "source": [
    "n) Now compute the RMSE. How does it compare with the value computed in part f) above?"
   ]
  },
  {
   "cell_type": "code",
   "execution_count": null,
   "id": "47a36ae9",
   "metadata": {},
   "outputs": [],
   "source": [
    "# Your n) code here"
   ]
  },
  {
   "cell_type": "markdown",
   "id": "cee6c997",
   "metadata": {},
   "source": [
    "o) You should find that your model is not quite as accurate as it used to be. Retrain it using data from 2005 to 2009, remembering to split the data into train and test sets before you begin."
   ]
  },
  {
   "cell_type": "code",
   "execution_count": null,
   "id": "34944a63",
   "metadata": {},
   "outputs": [],
   "source": [
    "# Your o) code here"
   ]
  },
  {
   "cell_type": "markdown",
   "id": "7b9689bf",
   "metadata": {},
   "source": [
    "p) Now compute the new RMSE using the unseen test data."
   ]
  },
  {
   "cell_type": "code",
   "execution_count": null,
   "id": "75219687",
   "metadata": {},
   "outputs": [],
   "source": [
    "# Your p) code here"
   ]
  },
  {
   "cell_type": "markdown",
   "id": "5b7b8d72",
   "metadata": {},
   "source": [
    "You should find that by retraining your model on the latest data, you have mitigated the effects of data drift and reduced the model error. An MLOps workflow is designed to automate this process by continually monitoring the model predictions and retraining the model on a schedule."
   ]
  }
 ],
 "metadata": {
  "kernelspec": {
   "display_name": "rss-vetiver",
   "language": "python",
   "name": "rss-vetiver"
  },
  "language_info": {
   "codemirror_mode": {
    "name": "ipython",
    "version": 3
   },
   "file_extension": ".py",
   "mimetype": "text/x-python",
   "name": "python",
   "nbconvert_exporter": "python",
   "pygments_lexer": "ipython3",
   "version": "3.10.12"
  }
 },
 "nbformat": 4,
 "nbformat_minor": 5
}
