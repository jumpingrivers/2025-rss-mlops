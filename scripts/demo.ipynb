{
 "cells": [
  {
   "cell_type": "markdown",
   "id": "9b89c1b5",
   "metadata": {},
   "source": [
    "# MLOps: Automating the Machine Learning Stack\n",
    "\n",
    "Visualise the data"
   ]
  },
  {
   "cell_type": "code",
   "execution_count": null,
   "id": "904003d0",
   "metadata": {},
   "outputs": [],
   "source": [
    "import seaborn as sns\n",
    "\n",
    "\n",
    "penguins = sns.load_dataset(\"penguins\")\n",
    "sns.scatterplot(\n",
    "    data=penguins,\n",
    "    x=\"flipper_length_mm\",\n",
    "    y=\"body_mass_g\",\n",
    "    hue=\"species\",\n",
    "    style=\"island\"\n",
    ")"
   ]
  },
  {
   "cell_type": "markdown",
   "id": "c7afb173",
   "metadata": {},
   "source": [
    "Tidy and split the data"
   ]
  },
  {
   "cell_type": "code",
   "execution_count": null,
   "id": "f1b600b6",
   "metadata": {},
   "outputs": [],
   "source": [
    "from sklearn.model_selection import train_test_split\n",
    "\n",
    "\n",
    "penguins.dropna(inplace=True)\n",
    "\n",
    "X = penguins[[\"island\", \"flipper_length_mm\", \"body_mass_g\"]]\n",
    "y = penguins[\"species\"]\n",
    "\n",
    "X_train, X_test, y_train, y_test = train_test_split(\n",
    "    X, y, test_size=0.2\n",
    ")"
   ]
  },
  {
   "cell_type": "markdown",
   "id": "3c07f2f0",
   "metadata": {},
   "source": [
    "Set up and train the model"
   ]
  },
  {
   "cell_type": "code",
   "execution_count": null,
   "id": "840f13a3",
   "metadata": {},
   "outputs": [],
   "source": [
    "from sklearn.compose import ColumnTransformer\n",
    "from sklearn.neighbors import KNeighborsClassifier\n",
    "from sklearn.pipeline import Pipeline\n",
    "from sklearn.preprocessing import (\n",
    "    OneHotEncoder,\n",
    "    StandardScaler,\n",
    ")\n",
    "\n",
    "\n",
    "# Data transformations\n",
    "numeric_features = [\"flipper_length_mm\", \"body_mass_g\"]\n",
    "categorical_features = [\"island\"]\n",
    "\n",
    "preprocessor = ColumnTransformer(\n",
    "    [\n",
    "        (\"num\", StandardScaler(), numeric_features),\n",
    "        (\"cat\", OneHotEncoder(), categorical_features),\n",
    "    ]\n",
    ")\n",
    "\n",
    "# Model pipeline\n",
    "model = Pipeline(\n",
    "    [\n",
    "        (\"preprocess\", preprocessor),\n",
    "        (\"model\", KNeighborsClassifier()),\n",
    "    ]\n",
    ")\n",
    "model.fit(X_train, y_train)"
   ]
  },
  {
   "cell_type": "markdown",
   "id": "2e0ad829",
   "metadata": {},
   "source": [
    "Make predictions using the model"
   ]
  },
  {
   "cell_type": "code",
   "execution_count": null,
   "id": "ed7de43b",
   "metadata": {},
   "outputs": [],
   "source": [
    "y_pred = model.predict(X_test)"
   ]
  },
  {
   "cell_type": "markdown",
   "id": "6e6f7489",
   "metadata": {},
   "source": [
    "Accuracy for unseen test data"
   ]
  },
  {
   "cell_type": "code",
   "execution_count": null,
   "id": "4164c980",
   "metadata": {},
   "outputs": [],
   "source": [
    "from sklearn.metrics import accuracy_score\n",
    "\n",
    "\n",
    "accuracy_score(y_test, y_pred)"
   ]
  },
  {
   "cell_type": "markdown",
   "id": "5531a302",
   "metadata": {},
   "source": [
    "Create a Vetiver model"
   ]
  },
  {
   "cell_type": "code",
   "execution_count": null,
   "id": "822ae5ae",
   "metadata": {},
   "outputs": [],
   "source": [
    "import vetiver\n",
    "\n",
    "\n",
    "v_model = vetiver.VetiverModel(\n",
    "    model,\n",
    "    model_name=\"k-nn\",\n",
    "    description=\"penguin-species\",\n",
    "    prototype_data=X_test,\n",
    ")"
   ]
  },
  {
   "cell_type": "markdown",
   "id": "e540cad1",
   "metadata": {},
   "source": [
    "Examine Vetiver model"
   ]
  },
  {
   "cell_type": "code",
   "execution_count": null,
   "id": "d66f74af",
   "metadata": {},
   "outputs": [],
   "source": [
    "print(v_model.description)\n",
    "print(v_model.metadata)"
   ]
  },
  {
   "cell_type": "markdown",
   "id": "7ca021b5",
   "metadata": {},
   "source": [
    "Deploy model locally"
   ]
  },
  {
   "cell_type": "code",
   "execution_count": null,
   "id": "7734ff63",
   "metadata": {},
   "outputs": [],
   "source": [
    "from vetiver import VetiverAPI\n",
    "\n",
    "\n",
    "app = VetiverAPI(v_model, check_prototype=True)"
   ]
  },
  {
   "cell_type": "markdown",
   "id": "bda60a3b",
   "metadata": {},
   "source": [
    "View the running model"
   ]
  },
  {
   "cell_type": "code",
   "execution_count": null,
   "id": "5c6d222e",
   "metadata": {},
   "outputs": [],
   "source": [
    "app.run(port = 8080)"
   ]
  },
  {
   "cell_type": "markdown",
   "id": "02e68d9b",
   "metadata": {},
   "source": [
    "You can try making predictions via the user interface for different input data. If working locally, you can also open a separate terminal, run `python` to start the Python console, and run queries programmatically:\n",
    "\n",
    "```\n",
    "from vetiver.server import predict, vetiver_endpoint\n",
    "import pandas as pd\n",
    "\n",
    "\n",
    "endpoint = vetiver_endpoint(\"http://127.0.0.1:8080/predict\")\n",
    "\n",
    "new_penguin_dict = {\n",
    "    \"island\": [\"Biscoe\"],\n",
    "    \"flipper_length_mm\": [220],\n",
    "    \"body_mass_g\": [5500],\n",
    "}\n",
    "new_penguin = pd.DataFrame(new_penguin_dict)\n",
    "predict(endpoint, new_penguin)\n",
    "```"
   ]
  }
 ],
 "metadata": {
  "kernelspec": {
   "display_name": "rss-vetiver",
   "language": "python",
   "name": "rss-vetiver"
  },
  "language_info": {
   "codemirror_mode": {
    "name": "ipython",
    "version": 3
   },
   "file_extension": ".py",
   "mimetype": "text/x-python",
   "name": "python",
   "nbconvert_exporter": "python",
   "pygments_lexer": "ipython3",
   "version": "3.10.12"
  }
 },
 "nbformat": 4,
 "nbformat_minor": 5
}
